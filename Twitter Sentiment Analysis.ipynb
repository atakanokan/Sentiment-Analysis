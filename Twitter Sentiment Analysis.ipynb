{
 "cells": [
  {
   "cell_type": "code",
   "execution_count": 1,
   "metadata": {},
   "outputs": [
    {
     "name": "stdout",
     "output_type": "stream",
     "text": [
      "Collecting tweepy\n",
      "  Downloading https://files.pythonhosted.org/packages/05/f1/2e8c7b202dd04117a378ac0c55cc7dafa80280ebd7f692f1fa8f27fd6288/tweepy-3.6.0-py2.py3-none-any.whl\n",
      "Requirement already satisfied: requests>=2.11.1 in /Users/atakanokan/anaconda/lib/python3.6/site-packages (from tweepy) (2.14.2)\n",
      "Collecting requests-oauthlib>=0.7.0 (from tweepy)\n",
      "  Downloading https://files.pythonhosted.org/packages/77/34/d0957563f20b259a31c12f14e858d79f2e66eb539d3c1b9ab7077ef030ca/requests_oauthlib-0.8.0-py2.py3-none-any.whl\n",
      "Collecting PySocks>=1.5.7 (from tweepy)\n",
      "\u001b[?25l  Downloading https://files.pythonhosted.org/packages/53/12/6bf1d764f128636cef7408e8156b7235b150ea31650d0260969215bb8e7d/PySocks-1.6.8.tar.gz (283kB)\n",
      "\u001b[K    100% |████████████████████████████████| 286kB 11.8MB/s ta 0:00:01\n",
      "\u001b[?25hRequirement already satisfied: six>=1.10.0 in /Users/atakanokan/anaconda/lib/python3.6/site-packages (from tweepy) (1.10.0)\n",
      "Collecting oauthlib>=0.6.2 (from requests-oauthlib>=0.7.0->tweepy)\n",
      "\u001b[?25l  Downloading https://files.pythonhosted.org/packages/e0/ac/c6a0c98788aa0d61915190d089e9ebe680905a94261effe3936eb8fe356f/oauthlib-2.0.7-py2.py3-none-any.whl (124kB)\n",
      "\u001b[K    100% |████████████████████████████████| 133kB 15.0MB/s ta 0:00:01\n",
      "\u001b[?25hBuilding wheels for collected packages: PySocks\n",
      "  Running setup.py bdist_wheel for PySocks ... \u001b[?25ldone\n",
      "\u001b[?25h  Stored in directory: /Users/atakanokan/Library/Caches/pip/wheels/22/5c/b5/12e0dfdfa85bea67b23628b6425fae715c687e947a45ee3df9\n",
      "Successfully built PySocks\n",
      "\u001b[31mmoviepy 0.2.3.2 has requirement decorator==4.0.11, but you'll have decorator 4.3.0 which is incompatible.\u001b[0m\n",
      "Installing collected packages: oauthlib, requests-oauthlib, PySocks, tweepy\n",
      "Successfully installed PySocks-1.6.8 oauthlib-2.0.7 requests-oauthlib-0.8.0 tweepy-3.6.0\n"
     ]
    }
   ],
   "source": [
    "!pip install tweepy"
   ]
  },
  {
   "cell_type": "code",
   "execution_count": 2,
   "metadata": {},
   "outputs": [
    {
     "name": "stdout",
     "output_type": "stream",
     "text": [
      "Collecting textblob\n",
      "\u001b[?25l  Downloading https://files.pythonhosted.org/packages/11/18/7f55c8be6d68ddc4036ffda5382ca51e23a1075987f708b9123712091af1/textblob-0.15.1-py2.py3-none-any.whl (631kB)\n",
      "\u001b[K    100% |████████████████████████████████| 634kB 10.8MB/s ta 0:00:01\n",
      "\u001b[?25hRequirement already satisfied: nltk>=3.1 in /Users/atakanokan/anaconda/lib/python3.6/site-packages (from textblob) (3.2.5)\n",
      "Requirement already satisfied: six in /Users/atakanokan/anaconda/lib/python3.6/site-packages (from nltk>=3.1->textblob) (1.10.0)\n",
      "\u001b[31mmoviepy 0.2.3.2 has requirement decorator==4.0.11, but you'll have decorator 4.3.0 which is incompatible.\u001b[0m\n",
      "Installing collected packages: textblob\n",
      "Successfully installed textblob-0.15.1\n"
     ]
    }
   ],
   "source": [
    "!pip install textblob"
   ]
  },
  {
   "cell_type": "code",
   "execution_count": 3,
   "metadata": {},
   "outputs": [
    {
     "name": "stdout",
     "output_type": "stream",
     "text": [
      "[nltk_data] Downloading package brown to\n",
      "[nltk_data]     /Users/atakanokan/nltk_data...\n",
      "[nltk_data]   Package brown is already up-to-date!\n",
      "[nltk_data] Downloading package punkt to\n",
      "[nltk_data]     /Users/atakanokan/nltk_data...\n",
      "[nltk_data]   Package punkt is already up-to-date!\n",
      "[nltk_data] Downloading package wordnet to\n",
      "[nltk_data]     /Users/atakanokan/nltk_data...\n",
      "[nltk_data]   Unzipping corpora/wordnet.zip.\n",
      "[nltk_data] Downloading package averaged_perceptron_tagger to\n",
      "[nltk_data]     /Users/atakanokan/nltk_data...\n",
      "[nltk_data]   Unzipping taggers/averaged_perceptron_tagger.zip.\n",
      "[nltk_data] Downloading package conll2000 to\n",
      "[nltk_data]     /Users/atakanokan/nltk_data...\n",
      "[nltk_data]   Unzipping corpora/conll2000.zip.\n",
      "[nltk_data] Downloading package movie_reviews to\n",
      "[nltk_data]     /Users/atakanokan/nltk_data...\n",
      "[nltk_data]   Unzipping corpora/movie_reviews.zip.\n",
      "Finished.\n"
     ]
    }
   ],
   "source": [
    "!python -m textblob.download_corpora"
   ]
  },
  {
   "cell_type": "markdown",
   "metadata": {},
   "source": [
    "Authentication\n",
    "\n",
    "* register an App through twitter account\n",
    "* https://apps.twitter.com/\n",
    "* https://apps.twitter.com/app/15123027\n",
    "* ‘Keys and Access Tokens’ tab\n",
    "*  ‘Consumer Key’, ‘Consumer Secret’, ‘Access token’ and ‘Access Token Secret’"
   ]
  },
  {
   "cell_type": "code",
   "execution_count": 14,
   "metadata": {},
   "outputs": [
    {
     "name": "stdout",
     "output_type": "stream",
     "text": [
      "Number of tweets from API: 43\n",
      "Positive tweets percentage: 71.42857142857143 %\n",
      "Negative tweets percentage: 4.761904761904762 %\n",
      "42\n",
      "2\n",
      "30\n",
      "Neutral tweets percentage: 23.80952380952381 % \n",
      "\n",
      "\n",
      "Positive tweets:\n",
      "HUBBLE | The More Affordable Daily Contact Lens. https://t.co/VHnXm2YgLN\n",
      "HUBBLE | The More Affordable Daily Contact Lens. https://t.co/ikJQJs4FlY\n",
      "@cstross The \"Stars Are Right\" conjunction caused a huge beam of occult energy to be fired from Yuggoth in our dire… https://t.co/uWAMjakJKT\n",
      "@CREWcrew Hahahaha...he REFLECTS the criminality of the administration as perfectly as Hubble's lens.\n",
      "HUBBLE | The More Affordable Daily Contact Lens 😍\n",
      "HUBBLE | The More Affordable Daily Contact Lens. https://t.co/FjJ1bXknDh\n",
      "Hubble peers through cosmic lens to capture most distant star ever seen (via @NewsfusionApps #NASA News)\n",
      "https://t.co/N80mYEqOgC\n",
      "@AbsoluteTruthMG First off, Hubble is facing away from the earth. It's lens is facing into space son of course Hubb… https://t.co/wL8C8Ze4dS\n",
      "RT @ESAesdc: ESA Science &amp; Technology: Hubble uses cosmic lens to discover most distant star ever observed [heic1807] https://t.co/RcbS4XuL…\n",
      "Missed this a couple weeks ago... A temporary gravitational lens alignment gave Hubble an unexpected chance to see… https://t.co/LULL331I6J\n",
      "\n",
      "\n",
      "Negative tweets:\n",
      "Flat Earther wants to prove the Hubble picture is fake. Her ‘proof’ shows reflections on the shuttle window and the… https://t.co/1aUxsYKqc6\n",
      "Contact lens startup Hubble sold lenses with a fake prescription from a made-up doctor https://t.co/Qzb1Nzp3IV via… https://t.co/RPBukGSCTM\n"
     ]
    }
   ],
   "source": [
    "import re\n",
    "import tweepy\n",
    "from tweepy import OAuthHandler\n",
    "from textblob import TextBlob\n",
    " \n",
    "class TwitterClient(object):\n",
    "    '''\n",
    "    Generic Twitter Class for sentiment analysis.\n",
    "    '''\n",
    "    def __init__(self):\n",
    "        '''\n",
    "        Class constructor or initialization method.\n",
    "        '''\n",
    "        # keys and tokens from the Twitter Dev Console\n",
    "        consumer_key = '0TJKgrI0N6HF53BuS9y22YnCD'\n",
    "        consumer_secret = 'cJkg6rOnc5WSueoiFuSyVuR6hFxe880zQfU6md9dQAdt05wyvi'\n",
    "        access_token = '987408772804104193-S3THYfy7YZqJjEDvulbjaGtbUZSZwyu'\n",
    "        access_token_secret = 'UhRcPGGOupKZrlpE3Px23IeoDeidStGyefcN9hUPGBZqU'\n",
    " \n",
    "        # attempt authentication\n",
    "        try:\n",
    "            # create OAuthHandler object\n",
    "            self.auth = OAuthHandler(consumer_key, consumer_secret)\n",
    "            # set access token and secret\n",
    "            self.auth.set_access_token(access_token, access_token_secret)\n",
    "            # create tweepy API object to fetch tweets\n",
    "            self.api = tweepy.API(self.auth)\n",
    "        except:\n",
    "            print(\"Error: Authentication Failed\")\n",
    " \n",
    "    def clean_tweet(self, tweet):\n",
    "        '''\n",
    "        Utility function to clean tweet text by removing links, special characters\n",
    "        using simple regex statements.\n",
    "        '''\n",
    "        return ' '.join(re.sub(\"(@[A-Za-z0-9]+)|([^0-9A-Za-z \\t])|(\\w+:\\/\\/\\S+)\", \" \", tweet).split())\n",
    " \n",
    "    def get_tweet_sentiment(self, tweet):\n",
    "        '''\n",
    "        Utility function to classify sentiment of passed tweet\n",
    "        using textblob's sentiment method\n",
    "        '''\n",
    "        # create TextBlob object of passed tweet text\n",
    "        analysis = TextBlob(self.clean_tweet(tweet))\n",
    "        # set sentiment\n",
    "        if analysis.sentiment.polarity > 0:\n",
    "            return 'positive'\n",
    "        elif analysis.sentiment.polarity == 0:\n",
    "            return 'neutral'\n",
    "        else:\n",
    "            return 'negative'\n",
    " \n",
    "    def get_tweets(self, query, count = 10):\n",
    "        '''\n",
    "        Main function to fetch tweets and parse them.\n",
    "        '''\n",
    "        # empty list to store parsed tweets\n",
    "        tweets = []\n",
    "        \n",
    "        try:\n",
    "            # call twitter api to fetch tweets\n",
    "            fetched_tweets = self.api.search(q = query, count = count)\n",
    "            print(\"Number of tweets from API: \" + str(len(fetched_tweets)))\n",
    "            # parsing tweets one by one\n",
    "            for tweet in fetched_tweets:\n",
    "                # empty dictionary to store required params of a tweet\n",
    "                parsed_tweet = {}\n",
    " \n",
    "                # saving text of tweet\n",
    "                parsed_tweet['text'] = tweet.text\n",
    "                # saving sentiment of tweet\n",
    "                parsed_tweet['sentiment'] = self.get_tweet_sentiment(tweet.text)\n",
    " \n",
    "                # appending parsed tweet to tweets list\n",
    "                if tweet.retweet_count > 0:\n",
    "                    # if tweet has retweets, ensure that it is appended only once\n",
    "                    if parsed_tweet not in tweets:\n",
    "                        tweets.append(parsed_tweet)\n",
    "                else:\n",
    "                    tweets.append(parsed_tweet)\n",
    " \n",
    "            # return parsed tweets\n",
    "            return tweets\n",
    " \n",
    "        except tweepy.TweepError as e:\n",
    "            # print error (if any)\n",
    "            print(\"Error : \" + str(e))\n",
    " \n",
    "\n",
    "def main():\n",
    "    # creating object of TwitterClient Class\n",
    "    api = TwitterClient()\n",
    "    # calling function to get tweets\n",
    "    tweets = api.get_tweets(query = 'Hubble lens', count = 2000)\n",
    " \n",
    "    # picking positive tweets from tweets\n",
    "    ptweets = [tweet for tweet in tweets if tweet['sentiment'] == 'positive']\n",
    "    # percentage of positive tweets\n",
    "    print(\"Positive tweets percentage: {} %\".format(100*len(ptweets)/len(tweets)))\n",
    "    # picking negative tweets from tweets\n",
    "    ntweets = [tweet for tweet in tweets if tweet['sentiment'] == 'negative']\n",
    "    # percentage of negative tweets\n",
    "    print(\"Negative tweets percentage: {} %\".format(100*len(ntweets)/len(tweets)))\n",
    "    # percentage of neutral tweets\n",
    "    print(len(tweets))\n",
    "    print(len(ntweets))\n",
    "    print(len(ptweets))\n",
    "    print(\"Neutral tweets percentage: {} % \".format(100*(len(tweets) - len(ntweets) - len(ptweets))/len(tweets)))\n",
    " \n",
    "    # printing first 5 positive tweets\n",
    "    print(\"\\n\\nPositive tweets:\")\n",
    "    for tweet in ptweets[:10]:\n",
    "        print(tweet['text'])\n",
    " \n",
    "    # printing first 5 negative tweets\n",
    "    print(\"\\n\\nNegative tweets:\")\n",
    "    for tweet in ntweets[:10]:\n",
    "        print(tweet['text'])\n",
    " \n",
    "if __name__ == \"__main__\":\n",
    "    # calling main function\n",
    "    main()"
   ]
  },
  {
   "cell_type": "code",
   "execution_count": null,
   "metadata": {
    "collapsed": true
   },
   "outputs": [],
   "source": []
  }
 ],
 "metadata": {
  "kernelspec": {
   "display_name": "Python 3",
   "language": "python",
   "name": "python3"
  },
  "language_info": {
   "codemirror_mode": {
    "name": "ipython",
    "version": 3
   },
   "file_extension": ".py",
   "mimetype": "text/x-python",
   "name": "python",
   "nbconvert_exporter": "python",
   "pygments_lexer": "ipython3",
   "version": "3.6.1"
  }
 },
 "nbformat": 4,
 "nbformat_minor": 2
}
